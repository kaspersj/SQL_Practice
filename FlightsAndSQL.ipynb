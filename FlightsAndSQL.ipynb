{
 "cells": [
  {
   "cell_type": "markdown",
   "metadata": {},
   "source": [
    "The goal of this notebook is to query the rich dataset of nycflights13, and to recreate tables and calculations from my stats306 repository detailing problems from this undergraduate class."
   ]
  },
  {
   "cell_type": "code",
   "execution_count": 2,
   "metadata": {},
   "outputs": [],
   "source": [
    "import pandas as pd\n",
    "import numpy as np\n",
    "import nycflights13 as nyc\n",
    "from nycflights13 import planes\n",
    "from nycflights13 import airports\n",
    "import pyreadr\n",
    "import duckdb"
   ]
  },
  {
   "cell_type": "code",
   "execution_count": 3,
   "metadata": {},
   "outputs": [],
   "source": [
    "flights = nyc.flights\n",
    "airlines = nyc.airlines"
   ]
  },
  {
   "cell_type": "code",
   "execution_count": 4,
   "metadata": {},
   "outputs": [
    {
     "data": {
      "text/plain": [
       "6398744"
      ]
     },
     "execution_count": 4,
     "metadata": {},
     "output_type": "execute_result"
    }
   ],
   "source": [
    "flights.size"
   ]
  },
  {
   "cell_type": "code",
   "execution_count": 5,
   "metadata": {},
   "outputs": [
    {
     "data": {
      "text/plain": [
       "Index(['year', 'month', 'day', 'dep_time', 'sched_dep_time', 'dep_delay',\n",
       "       'arr_time', 'sched_arr_time', 'arr_delay', 'carrier', 'flight',\n",
       "       'tailnum', 'origin', 'dest', 'air_time', 'distance', 'hour', 'minute',\n",
       "       'time_hour'],\n",
       "      dtype='object')"
      ]
     },
     "execution_count": 5,
     "metadata": {},
     "output_type": "execute_result"
    }
   ],
   "source": [
    "flights.columns"
   ]
  },
  {
   "cell_type": "code",
   "execution_count": 6,
   "metadata": {},
   "outputs": [
    {
     "data": {
      "text/plain": [
       "32"
      ]
     },
     "execution_count": 6,
     "metadata": {},
     "output_type": "execute_result"
    }
   ],
   "source": [
    "airlines.size"
   ]
  },
  {
   "cell_type": "code",
   "execution_count": 7,
   "metadata": {},
   "outputs": [
    {
     "data": {
      "text/plain": [
       "Index(['carrier', 'name'], dtype='object')"
      ]
     },
     "execution_count": 7,
     "metadata": {},
     "output_type": "execute_result"
    }
   ],
   "source": [
    "airlines.columns"
   ]
  },
  {
   "cell_type": "markdown",
   "metadata": {},
   "source": [
    "## Problem 1:\n",
    "Extract all the flights that took place in months that begin with the letter \"A\""
   ]
  },
  {
   "cell_type": "code",
   "execution_count": 8,
   "metadata": {},
   "outputs": [
    {
     "data": {
      "text/plain": [
       "┌───────┬───────┬───────┬──────────┬────────────────┬───┬──────────┬──────────┬───────┬────────┬──────────────────────┐\n",
       "│ year  │ month │  day  │ dep_time │ sched_dep_time │ … │ air_time │ distance │ hour  │ minute │      time_hour       │\n",
       "│ int64 │ int64 │ int64 │  double  │     int64      │   │  double  │  int64   │ int64 │ int64  │       varchar        │\n",
       "├───────┼───────┼───────┼──────────┼────────────────┼───┼──────────┼──────────┼───────┼────────┼──────────────────────┤\n",
       "│  2013 │     4 │     1 │    454.0 │            500 │ … │     84.0 │      529 │     5 │      0 │ 2013-04-01T09:00:00Z │\n",
       "│  2013 │     4 │     1 │    509.0 │            515 │ … │    194.0 │     1400 │     5 │     15 │ 2013-04-01T09:00:00Z │\n",
       "│  2013 │     4 │     1 │    526.0 │            530 │ … │    206.0 │     1416 │     5 │     30 │ 2013-04-01T09:00:00Z │\n",
       "│  2013 │     4 │     1 │    534.0 │            540 │ … │    152.0 │     1089 │     5 │     40 │ 2013-04-01T09:00:00Z │\n",
       "│  2013 │     4 │     1 │    542.0 │            545 │ … │    191.0 │     1576 │     5 │     45 │ 2013-04-01T09:00:00Z │\n",
       "│  2013 │     4 │     1 │    543.0 │            545 │ … │    202.0 │     1598 │     5 │     45 │ 2013-04-01T09:00:00Z │\n",
       "│  2013 │     4 │     1 │    551.0 │            600 │ … │    105.0 │      214 │     6 │      0 │ 2013-04-01T10:00:00Z │\n",
       "│  2013 │     4 │     1 │    552.0 │            600 │ … │     32.0 │      184 │     6 │      0 │ 2013-04-01T10:00:00Z │\n",
       "│  2013 │     4 │     1 │    553.0 │            600 │ … │    121.0 │      719 │     6 │      0 │ 2013-04-01T10:00:00Z │\n",
       "│  2013 │     4 │     1 │    554.0 │            600 │ … │    148.0 │      963 │     6 │      0 │ 2013-04-01T10:00:00Z │\n",
       "│    ·  │     · │     · │      ·   │             ·  │ · │       ·  │       ·  │     · │      · │          ·           │\n",
       "│    ·  │     · │     · │      ·   │             ·  │ · │       ·  │       ·  │     · │      · │          ·           │\n",
       "│    ·  │     · │     · │      ·   │             ·  │ · │       ·  │       ·  │     · │      · │          ·           │\n",
       "│  2013 │     4 │    11 │   1356.0 │           1405 │ … │     58.0 │      228 │    14 │      5 │ 2013-04-11T18:00:00Z │\n",
       "│  2013 │     4 │    11 │   1358.0 │           1305 │ … │    119.0 │      746 │    13 │      5 │ 2013-04-11T17:00:00Z │\n",
       "│  2013 │     4 │    11 │   1358.0 │           1359 │ … │    113.0 │      762 │    13 │     59 │ 2013-04-11T17:00:00Z │\n",
       "│  2013 │     4 │    11 │   1401.0 │           1300 │ … │    126.0 │      719 │    13 │      0 │ 2013-04-11T17:00:00Z │\n",
       "│  2013 │     4 │    11 │   1402.0 │           1359 │ … │    149.0 │     1089 │    13 │     59 │ 2013-04-11T17:00:00Z │\n",
       "│  2013 │     4 │    11 │   1403.0 │           1225 │ … │    129.0 │      733 │    12 │     25 │ 2013-04-11T16:00:00Z │\n",
       "│  2013 │     4 │    11 │   1404.0 │           1340 │ … │     46.0 │      273 │    13 │     40 │ 2013-04-11T17:00:00Z │\n",
       "│  2013 │     4 │    11 │   1406.0 │           1355 │ … │    116.0 │      725 │    13 │     55 │ 2013-04-11T17:00:00Z │\n",
       "│  2013 │     4 │    11 │   1409.0 │           1200 │ … │    122.0 │      733 │    12 │      0 │ 2013-04-11T16:00:00Z │\n",
       "│  2013 │     4 │    11 │   1412.0 │           1325 │ … │    323.0 │     2454 │    13 │     25 │ 2013-04-11T17:00:00Z │\n",
       "├───────┴───────┴───────┴──────────┴────────────────┴───┴──────────┴──────────┴───────┴────────┴──────────────────────┤\n",
       "│ ? rows (>9999 rows, 20 shown)                                                                 19 columns (10 shown) │\n",
       "└─────────────────────────────────────────────────────────────────────────────────────────────────────────────────────┘"
      ]
     },
     "execution_count": 8,
     "metadata": {},
     "output_type": "execute_result"
    }
   ],
   "source": [
    "# flights that took place in months starting with the letter \"A\" occurred in either April (month 4) or August (month 8)\n",
    "q1results = duckdb.query(\"select * from flights where month in (4, 8)\") \n",
    "q1results"
   ]
  },
  {
   "cell_type": "markdown",
   "metadata": {},
   "source": [
    "# Problem 2\n",
    "\n",
    "Find the number of United Airlines flights that departed exactly on time and arrived exactly on time."
   ]
  },
  {
   "cell_type": "code",
   "execution_count": 9,
   "metadata": {},
   "outputs": [
    {
     "data": {
      "text/plain": [
       "┌──────────────────┐\n",
       "│ problemTwoAnswer │\n",
       "│      int64       │\n",
       "├──────────────────┤\n",
       "│               58 │\n",
       "└──────────────────┘"
      ]
     },
     "execution_count": 9,
     "metadata": {},
     "output_type": "execute_result"
    }
   ],
   "source": [
    "q2result = duckdb.query(\"select count(*) as problemTwoAnswer from flights where (carrier = 'UA' and (dep_delay == 0 and arr_delay == 0))\")\n",
    "q2result"
   ]
  },
  {
   "cell_type": "markdown",
   "metadata": {},
   "source": [
    "# Problem 3\n",
    "\n",
    "Find all flights destined for LAX or SFO which departed more than an hour late, but did not arrive late."
   ]
  },
  {
   "cell_type": "code",
   "execution_count": 10,
   "metadata": {},
   "outputs": [
    {
     "data": {
      "text/plain": [
       "┌───────┬───────┬───────┬──────────┬────────────────┬───┬──────────┬──────────┬───────┬────────┬──────────────────────┐\n",
       "│ year  │ month │  day  │ dep_time │ sched_dep_time │ … │ air_time │ distance │ hour  │ minute │      time_hour       │\n",
       "│ int64 │ int64 │ int64 │  double  │     int64      │   │  double  │  int64   │ int64 │ int64  │       varchar        │\n",
       "├───────┼───────┼───────┼──────────┼────────────────┼───┼──────────┼──────────┼───────┼────────┼──────────────────────┤\n",
       "│  2013 │     4 │     5 │    932.0 │            831 │ … │    301.0 │     2454 │     8 │     31 │ 2013-04-05T12:00:00Z │\n",
       "├───────┴───────┴───────┴──────────┴────────────────┴───┴──────────┴──────────┴───────┴────────┴──────────────────────┤\n",
       "│ 1 rows                                                                                        19 columns (10 shown) │\n",
       "└─────────────────────────────────────────────────────────────────────────────────────────────────────────────────────┘"
      ]
     },
     "execution_count": 10,
     "metadata": {},
     "output_type": "execute_result"
    }
   ],
   "source": [
    "q3results = duckdb.query(\"select * from flights where ((dest = 'LAX' OR dest = 'SFO') AND dep_delay >= 60 AND (arr_delay < 0))\")\n",
    "q3results"
   ]
  },
  {
   "cell_type": "markdown",
   "metadata": {},
   "source": [
    "# Problem 4\n",
    "\n",
    "Find the number of flights in May that are missing their departure time or their arrival time, but not both. "
   ]
  },
  {
   "cell_type": "code",
   "execution_count": 11,
   "metadata": {},
   "outputs": [
    {
     "data": {
      "text/plain": [
       "┌───────────────┐\n",
       "│ probFourCount │\n",
       "│     int64     │\n",
       "├───────────────┤\n",
       "│            38 │\n",
       "└───────────────┘"
      ]
     },
     "execution_count": 11,
     "metadata": {},
     "output_type": "execute_result"
    }
   ],
   "source": [
    "q4results = duckdb.query(\"SELECT count(*) as probFourCount from flights \\\n",
    "                         WHERE month = 5 AND ((arr_time IS NOT NULL) <> (dep_time is NOT NULL))\") # <> denotes xor\n",
    "q4results"
   ]
  },
  {
   "cell_type": "markdown",
   "metadata": {},
   "source": [
    "# Problem 5\n",
    "\n",
    "There are four flights which have a tail number that does not begin with the letter \"N\". Find those "
   ]
  },
  {
   "cell_type": "code",
   "execution_count": 12,
   "metadata": {},
   "outputs": [
    {
     "data": {
      "text/plain": [
       "┌───────┬───────┬───────┬──────────┬────────────────┬───┬──────────┬──────────┬───────┬────────┬──────────────────────┐\n",
       "│ year  │ month │  day  │ dep_time │ sched_dep_time │ … │ air_time │ distance │ hour  │ minute │      time_hour       │\n",
       "│ int64 │ int64 │ int64 │  double  │     int64      │   │  double  │  int64   │ int64 │ int64  │       varchar        │\n",
       "├───────┼───────┼───────┼──────────┼────────────────┼───┼──────────┼──────────┼───────┼────────┼──────────────────────┤\n",
       "│  2013 │     2 │    11 │   1508.0 │           1400 │ … │    131.0 │      762 │    14 │      0 │ 2013-02-11T19:00:00Z │\n",
       "│  2013 │     3 │    23 │   1340.0 │           1300 │ … │    153.0 │      950 │    13 │      0 │ 2013-03-23T17:00:00Z │\n",
       "│  2013 │     3 │    24 │    859.0 │            835 │ … │    143.0 │      944 │     8 │     35 │ 2013-03-24T12:00:00Z │\n",
       "│  2013 │     7 │     5 │   1253.0 │           1259 │ … │    112.0 │      762 │    12 │     59 │ 2013-07-05T16:00:00Z │\n",
       "├───────┴───────┴───────┴──────────┴────────────────┴───┴──────────┴──────────┴───────┴────────┴──────────────────────┤\n",
       "│ 4 rows                                                                                        19 columns (10 shown) │\n",
       "└─────────────────────────────────────────────────────────────────────────────────────────────────────────────────────┘"
      ]
     },
     "execution_count": 12,
     "metadata": {},
     "output_type": "execute_result"
    }
   ],
   "source": [
    "q5results = duckdb.query(\"SELECT * FROM flights where tailnum not like 'N%'\")\n",
    "q5results"
   ]
  },
  {
   "cell_type": "markdown",
   "metadata": {},
   "source": [
    "# Problem 6\n",
    "\n",
    "Find the unique tail numbers(s) of the flights that were in the air for the second shortest and third longest amounts of time. Store them in variables shortest2_tail_num and longest3_tail_num, respectively."
   ]
  },
  {
   "cell_type": "markdown",
   "metadata": {},
   "source": [
    "--> Running into the issue: there is no guarantee that an R function can be translated into sql code\n",
    "- To solve this issue, instead of using R's mutate and min_rank, I found the second shortest and third longest air_time values and plugged those into a where clause"
   ]
  },
  {
   "cell_type": "code",
   "execution_count": 13,
   "metadata": {},
   "outputs": [
    {
     "data": {
      "text/plain": [
       "┌─────────┐\n",
       "│ tailnum │\n",
       "│ varchar │\n",
       "├─────────┤\n",
       "│ N947UW  │\n",
       "│ N29906  │\n",
       "│ N12195  │\n",
       "│ N16987  │\n",
       "│ N11191  │\n",
       "│ N12160  │\n",
       "│ N11109  │\n",
       "│ N27200  │\n",
       "│ N13913  │\n",
       "│ N18101  │\n",
       "│ N12921  │\n",
       "│ N14920  │\n",
       "│ N13955  │\n",
       "│ N8501F  │\n",
       "├─────────┤\n",
       "│ 14 rows │\n",
       "└─────────┘"
      ]
     },
     "execution_count": 13,
     "metadata": {},
     "output_type": "execute_result"
    }
   ],
   "source": [
    "q6results_secondShortest = duckdb.query(\"SELECT distinct(tailnum) from \\\n",
    "                                        flights WHERE air_time = (SELECT min(air_time) as secondShortest \\\n",
    "                                        from flights where air_time > (select min(air_time) from flights))\")\n",
    "\n",
    "\n",
    "q6results_secondShortest"
   ]
  },
  {
   "cell_type": "code",
   "execution_count": 14,
   "metadata": {},
   "outputs": [
    {
     "data": {
      "text/plain": [
       "┌─────────┐\n",
       "│ tailnum │\n",
       "│ varchar │\n",
       "├─────────┤\n",
       "│ N380HA  │\n",
       "│ N388HA  │\n",
       "└─────────┘"
      ]
     },
     "execution_count": 14,
     "metadata": {},
     "output_type": "execute_result"
    }
   ],
   "source": [
    "q6results_thirdLongest = duckdb.query(\"SELECT distinct(tailnum) from flights \\\n",
    "                                      WHERE air_time = (SELECT air_time from flights ORDER BY air_time DESC LIMIT 1 OFFSET 2)\")\n",
    "q6results_thirdLongest"
   ]
  },
  {
   "cell_type": "markdown",
   "metadata": {},
   "source": [
    "# Problem 7\n",
    "\n",
    "Sort the rows of flights such that the months are arranged in the following order: spring, summer, fall, winter. (Here we define winter to be January-March, spring is April-June, etc.) Within each season, the months should be sorted in ascending order. After sorting, drop all columns except for month, day and tail number. Store the sorted and subsetted table in a variable called table7."
   ]
  },
  {
   "cell_type": "code",
   "execution_count": 15,
   "metadata": {},
   "outputs": [
    {
     "data": {
      "text/plain": [
       "┌───────┬───────┬─────────┐\n",
       "│ month │  day  │ tailnum │\n",
       "│ int64 │ int64 │ varchar │\n",
       "├───────┼───────┼─────────┤\n",
       "│     4 │     1 │ N566UW  │\n",
       "│     4 │     1 │ N76288  │\n",
       "│     4 │     1 │ N76517  │\n",
       "│     4 │     1 │ N5DSAA  │\n",
       "│     4 │     1 │ N784JB  │\n",
       "│     4 │     1 │ N590JB  │\n",
       "│     4 │     1 │ N737US  │\n",
       "│     4 │     1 │ N750UW  │\n",
       "│     4 │     1 │ N510MQ  │\n",
       "│     4 │     1 │ N723EV  │\n",
       "│     · │     · │   ·     │\n",
       "│     · │     · │   ·     │\n",
       "│     · │     · │   ·     │\n",
       "│     4 │    11 │ N826AS  │\n",
       "│     4 │    11 │ N11137  │\n",
       "│     4 │    11 │ N604DL  │\n",
       "│     4 │    11 │ N17126  │\n",
       "│     4 │    11 │ N5CHAA  │\n",
       "│     4 │    11 │ N584AA  │\n",
       "│     4 │    11 │ N249JB  │\n",
       "│     4 │    11 │ N284WN  │\n",
       "│     4 │    11 │ N823UA  │\n",
       "│     4 │    11 │ N17105  │\n",
       "├───────┴───────┴─────────┤\n",
       "│ ? rows        3 columns │\n",
       "└─────────────────────────┘"
      ]
     },
     "execution_count": 15,
     "metadata": {},
     "output_type": "execute_result"
    }
   ],
   "source": [
    "q7result = duckdb.query(\"SELECT month, day, tailnum from flights ORDER BY case month \\\n",
    "                            when '4' then 1 \\\n",
    "                            when '5' then 2 \\\n",
    "                            when '6' then 3 \\\n",
    "                            when '7' then 4 \\\n",
    "                            when '8' then 5 \\\n",
    "                            when '9' then 6 \\\n",
    "                            when '10' then 7 \\\n",
    "                            when '11' then 8 \\\n",
    "                            when '12' then 9 \\\n",
    "                            when '1' then 10 \\\n",
    "                            when '2' then 11 \\\n",
    "                            when '3' then 12 \\\n",
    "                        end, \\\n",
    "                        month\")\n",
    "q7result"
   ]
  },
  {
   "cell_type": "markdown",
   "metadata": {},
   "source": [
    "# Problem 8\n",
    "\n",
    "Drop the even-numbered columns of flights. Store the resulting data table in a variable called table8."
   ]
  },
  {
   "cell_type": "code",
   "execution_count": 16,
   "metadata": {},
   "outputs": [
    {
     "data": {
      "text/plain": [
       "┌───────┬───────┬────────────────┬──────────┬───────────┬────────┬─────────┬──────────┬───────┬──────────────────────┐\n",
       "│ year  │  day  │ sched_dep_time │ arr_time │ arr_delay │ flight │ origin  │ air_time │ hour  │      time_hour       │\n",
       "│ int64 │ int64 │     int64      │  double  │  double   │ int64  │ varchar │  double  │ int64 │       varchar        │\n",
       "├───────┼───────┼────────────────┼──────────┼───────────┼────────┼─────────┼──────────┼───────┼──────────────────────┤\n",
       "│  2013 │     1 │            515 │    830.0 │      11.0 │   1545 │ EWR     │    227.0 │     5 │ 2013-01-01T10:00:00Z │\n",
       "│  2013 │     1 │            529 │    850.0 │      20.0 │   1714 │ LGA     │    227.0 │     5 │ 2013-01-01T10:00:00Z │\n",
       "│  2013 │     1 │            540 │    923.0 │      33.0 │   1141 │ JFK     │    160.0 │     5 │ 2013-01-01T10:00:00Z │\n",
       "│  2013 │     1 │            545 │   1004.0 │     -18.0 │    725 │ JFK     │    183.0 │     5 │ 2013-01-01T10:00:00Z │\n",
       "│  2013 │     1 │            600 │    812.0 │     -25.0 │    461 │ LGA     │    116.0 │     6 │ 2013-01-01T11:00:00Z │\n",
       "│  2013 │     1 │            558 │    740.0 │      12.0 │   1696 │ EWR     │    150.0 │     5 │ 2013-01-01T10:00:00Z │\n",
       "│  2013 │     1 │            600 │    913.0 │      19.0 │    507 │ EWR     │    158.0 │     6 │ 2013-01-01T11:00:00Z │\n",
       "│  2013 │     1 │            600 │    709.0 │     -14.0 │   5708 │ LGA     │     53.0 │     6 │ 2013-01-01T11:00:00Z │\n",
       "│  2013 │     1 │            600 │    838.0 │      -8.0 │     79 │ JFK     │    140.0 │     6 │ 2013-01-01T11:00:00Z │\n",
       "│  2013 │     1 │            600 │    753.0 │       8.0 │    301 │ LGA     │    138.0 │     6 │ 2013-01-01T11:00:00Z │\n",
       "│    ·  │     · │             ·  │      ·   │        ·  │      · │  ·      │      ·   │     · │          ·           │\n",
       "│    ·  │     · │             ·  │      ·   │        ·  │      · │  ·      │      ·   │     · │          ·           │\n",
       "│    ·  │     · │             ·  │      ·   │        ·  │      · │  ·      │      ·   │     · │          ·           │\n",
       "│  2013 │    12 │           1015 │   1328.0 │     -12.0 │     75 │ EWR     │    305.0 │    10 │ 2013-01-12T15:00:00Z │\n",
       "│  2013 │    12 │            959 │   1253.0 │       5.0 │    197 │ JFK     │    314.0 │     9 │ 2013-01-12T14:00:00Z │\n",
       "│  2013 │    12 │           1015 │   1120.0 │     -11.0 │   3852 │ EWR     │     44.0 │    10 │ 2013-01-12T15:00:00Z │\n",
       "│  2013 │    12 │           1015 │   1240.0 │     -11.0 │   1705 │ LGA     │    163.0 │    10 │ 2013-01-12T15:00:00Z │\n",
       "│  2013 │    12 │           1015 │   1206.0 │      -2.0 │   1036 │ EWR     │     80.0 │    10 │ 2013-01-12T15:00:00Z │\n",
       "│  2013 │    12 │           1021 │   1335.0 │      -7.0 │   1903 │ LGA     │    146.0 │    10 │ 2013-01-12T15:00:00Z │\n",
       "│  2013 │    12 │           1020 │   1358.0 │      28.0 │    731 │ LGA     │    237.0 │    10 │ 2013-01-12T15:00:00Z │\n",
       "│  2013 │    12 │           1015 │   1320.0 │     -20.0 │   1257 │ LGA     │    194.0 │    10 │ 2013-01-12T15:00:00Z │\n",
       "│  2013 │    12 │           1030 │   1308.0 │     -37.0 │    415 │ JFK     │    140.0 │    10 │ 2013-01-12T15:00:00Z │\n",
       "│  2013 │    12 │           1025 │   1122.0 │      -9.0 │   1026 │ JFK     │     40.0 │    10 │ 2013-01-12T15:00:00Z │\n",
       "├───────┴───────┴────────────────┴──────────┴───────────┴────────┴─────────┴──────────┴───────┴──────────────────────┤\n",
       "│ ? rows (>9999 rows, 20 shown)                                                                           10 columns │\n",
       "└────────────────────────────────────────────────────────────────────────────────────────────────────────────────────┘"
      ]
     },
     "execution_count": 16,
     "metadata": {},
     "output_type": "execute_result"
    }
   ],
   "source": [
    "q8result = duckdb.query(\"SELECT year, day, sched_dep_time, arr_time, arr_delay, flight, origin, air_time, hour, time_hour from flights\") \n",
    "# no function to drop even numbered cols in SQL, so I hard-coded this one\n",
    "q8result"
   ]
  },
  {
   "cell_type": "markdown",
   "metadata": {},
   "source": [
    "# Problem 9\n",
    "\n",
    "Define a flight to be \"spooky\" if it was in the air at 1:13pm on either Halloween or Friday, September 13th. There were 110 spooky flights on Friday the 13th. How many spooky flights are there in total? Store your answer in a variable called nspooky."
   ]
  },
  {
   "cell_type": "code",
   "execution_count": 17,
   "metadata": {},
   "outputs": [
    {
     "data": {
      "text/plain": [
       "┌─────────┐\n",
       "│ nspooky │\n",
       "│  int64  │\n",
       "├─────────┤\n",
       "│     318 │\n",
       "└─────────┘"
      ]
     },
     "execution_count": 17,
     "metadata": {},
     "output_type": "execute_result"
    }
   ],
   "source": [
    "q9result = duckdb.query(\"SELECT count(*) as nspooky from flights \\\n",
    "                        where ((day = 13 OR day = 31) AND (month = 9 or month = 10) \\\n",
    "                        AND (1313 < arr_time AND 1313 > dep_time))\")\n",
    "q9result"
   ]
  },
  {
   "cell_type": "markdown",
   "metadata": {},
   "source": [
    "# Problem 10\n",
    "\n",
    "Select all the columns in flights which end with \"delay\". In the resulting table, define a new column max_delay which equals the maximum of the departure and arrival delays for each flight. For example, if a flight had a departure delay of -1 and an arrival delay of 10, the max_delay would equal 10. Sort your table in descending order of max_delay and store it in a variable called table10."
   ]
  },
  {
   "cell_type": "code",
   "execution_count": 18,
   "metadata": {},
   "outputs": [
    {
     "data": {
      "text/plain": [
       "┌───────────┬───────────┬───────────┐\n",
       "│ dep_delay │ arr_delay │ max_delay │\n",
       "│  double   │  double   │  double   │\n",
       "├───────────┼───────────┼───────────┤\n",
       "│    1301.0 │    1272.0 │    1301.0 │\n",
       "│    1137.0 │    1127.0 │    1137.0 │\n",
       "│    1126.0 │    1109.0 │    1126.0 │\n",
       "│    1014.0 │    1007.0 │    1014.0 │\n",
       "│    1005.0 │     989.0 │    1005.0 │\n",
       "│     960.0 │     931.0 │     960.0 │\n",
       "│     911.0 │     915.0 │     915.0 │\n",
       "│     899.0 │     850.0 │     899.0 │\n",
       "│     898.0 │     895.0 │     898.0 │\n",
       "│     896.0 │     878.0 │     896.0 │\n",
       "│       ·   │       ·   │       ·   │\n",
       "│       ·   │       ·   │       ·   │\n",
       "│       ·   │       ·   │       ·   │\n",
       "│     112.0 │     129.0 │     129.0 │\n",
       "│     129.0 │     108.0 │     129.0 │\n",
       "│     129.0 │     124.0 │     129.0 │\n",
       "│     114.0 │     129.0 │     129.0 │\n",
       "│     129.0 │     123.0 │     129.0 │\n",
       "│     103.0 │     129.0 │     129.0 │\n",
       "│     129.0 │      89.0 │     129.0 │\n",
       "│     126.0 │     129.0 │     129.0 │\n",
       "│     129.0 │     111.0 │     129.0 │\n",
       "│     101.0 │     129.0 │     129.0 │\n",
       "├───────────┴───────────┴───────────┤\n",
       "│   ? rows (>9999 rows, 20 shown)   │\n",
       "└───────────────────────────────────┘"
      ]
     },
     "execution_count": 18,
     "metadata": {},
     "output_type": "execute_result"
    }
   ],
   "source": [
    "q10result = duckdb.query(\"SELECT dep_delay, arr_delay, GREATEST(dep_delay, arr_delay) as max_delay \\\n",
    "                         from flights ORDER BY max_delay DESC \") # unfortunately the LIKE operator works within columns, not on column names\n",
    "q10result"
   ]
  },
  {
   "cell_type": "markdown",
   "metadata": {},
   "source": [
    "This is the end of the assignments found in https://github.com/kaspersj/Stats-306/blob/master/problemset2.ipynb. "
   ]
  },
  {
   "cell_type": "markdown",
   "metadata": {},
   "source": [
    "### Looking now at Problem Set 3:\n",
    "Found at https://github.com/kaspersj/Stats-306/blob/master/problemset3.ipynb, we can query and find solutions to problems: 1, 2, 4 and 5.\n"
   ]
  },
  {
   "cell_type": "code",
   "execution_count": 19,
   "metadata": {},
   "outputs": [
    {
     "name": "stdout",
     "output_type": "stream",
     "text": [
      "<class 'pandas.core.frame.DataFrame'>\n"
     ]
    }
   ],
   "source": [
    "bil = pyreadr.read_r('bil.RData')\n",
    "\n",
    "bil = bil['bil']\n",
    "print(type(bil))"
   ]
  },
  {
   "cell_type": "code",
   "execution_count": 20,
   "metadata": {},
   "outputs": [
    {
     "data": {
      "text/plain": [
       "age\n",
       "-1     385\n",
       " 60     76\n",
       " 64     65\n",
       " 50     65\n",
       " 69     65\n",
       "      ... \n",
       " 95      2\n",
       " 96      2\n",
       " 12      1\n",
       " 21      1\n",
       " 98      1\n",
       "Name: count, Length: 74, dtype: int64"
      ]
     },
     "execution_count": 20,
     "metadata": {},
     "output_type": "execute_result"
    }
   ],
   "source": [
    "bil['age'].value_counts()"
   ]
  },
  {
   "cell_type": "markdown",
   "metadata": {},
   "source": [
    "Looking at age, we see many values at -1. These represent missing data where we do not know the person's age. We'll fix this by recoding all values of -1 to NA."
   ]
  },
  {
   "cell_type": "code",
   "execution_count": 21,
   "metadata": {},
   "outputs": [
    {
     "data": {
      "text/html": [
       "<div>\n",
       "<style scoped>\n",
       "    .dataframe tbody tr th:only-of-type {\n",
       "        vertical-align: middle;\n",
       "    }\n",
       "\n",
       "    .dataframe tbody tr th {\n",
       "        vertical-align: top;\n",
       "    }\n",
       "\n",
       "    .dataframe thead th {\n",
       "        text-align: right;\n",
       "    }\n",
       "</style>\n",
       "<table border=\"1\" class=\"dataframe\">\n",
       "  <thead>\n",
       "    <tr style=\"text-align: right;\">\n",
       "      <th></th>\n",
       "      <th>age</th>\n",
       "      <th>category</th>\n",
       "      <th>citizenship</th>\n",
       "      <th>company.name</th>\n",
       "      <th>company.type</th>\n",
       "      <th>country code</th>\n",
       "      <th>founded</th>\n",
       "      <th>from emerging</th>\n",
       "      <th>gdp</th>\n",
       "      <th>gender</th>\n",
       "      <th>...</th>\n",
       "      <th>name</th>\n",
       "      <th>rank</th>\n",
       "      <th>region</th>\n",
       "      <th>relationship</th>\n",
       "      <th>sector</th>\n",
       "      <th>was founder</th>\n",
       "      <th>was political</th>\n",
       "      <th>wealth.type</th>\n",
       "      <th>worth in billions</th>\n",
       "      <th>year</th>\n",
       "    </tr>\n",
       "  </thead>\n",
       "  <tbody>\n",
       "    <tr>\n",
       "      <th>0</th>\n",
       "      <td>NA</td>\n",
       "      <td>Financial</td>\n",
       "      <td>Saudi Arabia</td>\n",
       "      <td>Rolaco Trading and Contracting Company</td>\n",
       "      <td>new</td>\n",
       "      <td>SAU</td>\n",
       "      <td>1968</td>\n",
       "      <td>True</td>\n",
       "      <td>1.580000e+11</td>\n",
       "      <td>male</td>\n",
       "      <td>...</td>\n",
       "      <td>Abdul Aziz Al-Sulaiman</td>\n",
       "      <td>404</td>\n",
       "      <td>Middle East/North Africa</td>\n",
       "      <td>founder</td>\n",
       "      <td>construction</td>\n",
       "      <td>True</td>\n",
       "      <td>False</td>\n",
       "      <td>self-made finance</td>\n",
       "      <td>1.0</td>\n",
       "      <td>1996</td>\n",
       "    </tr>\n",
       "    <tr>\n",
       "      <th>1</th>\n",
       "      <td>34</td>\n",
       "      <td>Financial</td>\n",
       "      <td>United States</td>\n",
       "      <td>Fidelity Investments</td>\n",
       "      <td>new</td>\n",
       "      <td>USA</td>\n",
       "      <td>1946</td>\n",
       "      <td>True</td>\n",
       "      <td>8.100000e+12</td>\n",
       "      <td>female</td>\n",
       "      <td>...</td>\n",
       "      <td>Abigail Johnson</td>\n",
       "      <td>145</td>\n",
       "      <td>North America</td>\n",
       "      <td>relation</td>\n",
       "      <td>investment banking</td>\n",
       "      <td>True</td>\n",
       "      <td>False</td>\n",
       "      <td>inherited</td>\n",
       "      <td>2.5</td>\n",
       "      <td>1996</td>\n",
       "    </tr>\n",
       "    <tr>\n",
       "      <th>2</th>\n",
       "      <td>59</td>\n",
       "      <td>Non-Traded Sectors</td>\n",
       "      <td>Brazil</td>\n",
       "      <td>Companhia Brasileira de Distribui?ao</td>\n",
       "      <td>new</td>\n",
       "      <td>BRA</td>\n",
       "      <td>1948</td>\n",
       "      <td>True</td>\n",
       "      <td>8.540000e+11</td>\n",
       "      <td>male</td>\n",
       "      <td>...</td>\n",
       "      <td>Abilio dos Santos Diniz</td>\n",
       "      <td>322</td>\n",
       "      <td>Latin America</td>\n",
       "      <td>relation</td>\n",
       "      <td>retail</td>\n",
       "      <td>True</td>\n",
       "      <td>False</td>\n",
       "      <td>inherited</td>\n",
       "      <td>1.2</td>\n",
       "      <td>1996</td>\n",
       "    </tr>\n",
       "    <tr>\n",
       "      <th>3</th>\n",
       "      <td>61</td>\n",
       "      <td>New Sectors</td>\n",
       "      <td>Germany</td>\n",
       "      <td>Ratiopharm</td>\n",
       "      <td>new</td>\n",
       "      <td>DEU</td>\n",
       "      <td>1881</td>\n",
       "      <td>True</td>\n",
       "      <td>2.500000e+12</td>\n",
       "      <td>male</td>\n",
       "      <td>...</td>\n",
       "      <td>Adolf Merckle</td>\n",
       "      <td>388</td>\n",
       "      <td>Europe</td>\n",
       "      <td>relation</td>\n",
       "      <td>pharmaceuticals</td>\n",
       "      <td>True</td>\n",
       "      <td>False</td>\n",
       "      <td>inherited</td>\n",
       "      <td>1.0</td>\n",
       "      <td>1996</td>\n",
       "    </tr>\n",
       "    <tr>\n",
       "      <th>4</th>\n",
       "      <td>NA</td>\n",
       "      <td>Financial</td>\n",
       "      <td>Hong Kong</td>\n",
       "      <td>Swire</td>\n",
       "      <td>new</td>\n",
       "      <td>HKG</td>\n",
       "      <td>1816</td>\n",
       "      <td>True</td>\n",
       "      <td>1.600000e+11</td>\n",
       "      <td>male</td>\n",
       "      <td>...</td>\n",
       "      <td>Adrian and John Swire</td>\n",
       "      <td>162</td>\n",
       "      <td>East Asia</td>\n",
       "      <td>relation</td>\n",
       "      <td>trading company</td>\n",
       "      <td>True</td>\n",
       "      <td>False</td>\n",
       "      <td>inherited</td>\n",
       "      <td>2.2</td>\n",
       "      <td>1996</td>\n",
       "    </tr>\n",
       "    <tr>\n",
       "      <th>...</th>\n",
       "      <td>...</td>\n",
       "      <td>...</td>\n",
       "      <td>...</td>\n",
       "      <td>...</td>\n",
       "      <td>...</td>\n",
       "      <td>...</td>\n",
       "      <td>...</td>\n",
       "      <td>...</td>\n",
       "      <td>...</td>\n",
       "      <td>...</td>\n",
       "      <td>...</td>\n",
       "      <td>...</td>\n",
       "      <td>...</td>\n",
       "      <td>...</td>\n",
       "      <td>...</td>\n",
       "      <td>...</td>\n",
       "      <td>...</td>\n",
       "      <td>...</td>\n",
       "      <td>...</td>\n",
       "      <td>...</td>\n",
       "      <td>...</td>\n",
       "    </tr>\n",
       "    <tr>\n",
       "      <th>2609</th>\n",
       "      <td>49</td>\n",
       "      <td>Financial</td>\n",
       "      <td>China</td>\n",
       "      <td>Yurun Food</td>\n",
       "      <td>new</td>\n",
       "      <td>CHN</td>\n",
       "      <td>1993</td>\n",
       "      <td>True</td>\n",
       "      <td>0.000000e+00</td>\n",
       "      <td>male</td>\n",
       "      <td>...</td>\n",
       "      <td>Zhu Yicai</td>\n",
       "      <td>1154</td>\n",
       "      <td>East Asia</td>\n",
       "      <td>founder</td>\n",
       "      <td>meat products</td>\n",
       "      <td>True</td>\n",
       "      <td>False</td>\n",
       "      <td>self-made finance</td>\n",
       "      <td>1.5</td>\n",
       "      <td>2014</td>\n",
       "    </tr>\n",
       "    <tr>\n",
       "      <th>2610</th>\n",
       "      <td>48</td>\n",
       "      <td>Non-Traded Sectors</td>\n",
       "      <td>Russia</td>\n",
       "      <td>Stroygazconsulting</td>\n",
       "      <td>new</td>\n",
       "      <td>RUS</td>\n",
       "      <td>1992</td>\n",
       "      <td>True</td>\n",
       "      <td>0.000000e+00</td>\n",
       "      <td>male</td>\n",
       "      <td>...</td>\n",
       "      <td>Ziyad Manasir</td>\n",
       "      <td>609</td>\n",
       "      <td>Europe</td>\n",
       "      <td>founder</td>\n",
       "      <td>construction</td>\n",
       "      <td>True</td>\n",
       "      <td>True</td>\n",
       "      <td>privatized and resources</td>\n",
       "      <td>2.8</td>\n",
       "      <td>2014</td>\n",
       "    </tr>\n",
       "    <tr>\n",
       "      <th>2611</th>\n",
       "      <td>45</td>\n",
       "      <td>Resource Related</td>\n",
       "      <td>Russia</td>\n",
       "      <td>Summa Group</td>\n",
       "      <td>new</td>\n",
       "      <td>RUS</td>\n",
       "      <td>2004</td>\n",
       "      <td>True</td>\n",
       "      <td>0.000000e+00</td>\n",
       "      <td>male</td>\n",
       "      <td>...</td>\n",
       "      <td>Ziyaudin Magomedov</td>\n",
       "      <td>1372</td>\n",
       "      <td>Europe</td>\n",
       "      <td>founder</td>\n",
       "      <td>ports, gas</td>\n",
       "      <td>True</td>\n",
       "      <td>False</td>\n",
       "      <td>privatized and resources</td>\n",
       "      <td>1.2</td>\n",
       "      <td>2014</td>\n",
       "    </tr>\n",
       "    <tr>\n",
       "      <th>2612</th>\n",
       "      <td>68</td>\n",
       "      <td>Traded Sectors</td>\n",
       "      <td>China</td>\n",
       "      <td>Hangzhou Wahaha Group</td>\n",
       "      <td>new</td>\n",
       "      <td>CHN</td>\n",
       "      <td>1987</td>\n",
       "      <td>True</td>\n",
       "      <td>0.000000e+00</td>\n",
       "      <td>male</td>\n",
       "      <td>...</td>\n",
       "      <td>Zong Qinghou</td>\n",
       "      <td>94</td>\n",
       "      <td>East Asia</td>\n",
       "      <td>founder</td>\n",
       "      <td>beverages</td>\n",
       "      <td>True</td>\n",
       "      <td>False</td>\n",
       "      <td>founder non-finance</td>\n",
       "      <td>11.6</td>\n",
       "      <td>2014</td>\n",
       "    </tr>\n",
       "    <tr>\n",
       "      <th>2613</th>\n",
       "      <td>57</td>\n",
       "      <td>Non-Traded Sectors</td>\n",
       "      <td>Poland</td>\n",
       "      <td>Polsat</td>\n",
       "      <td>new</td>\n",
       "      <td>POL</td>\n",
       "      <td>1992</td>\n",
       "      <td>True</td>\n",
       "      <td>0.000000e+00</td>\n",
       "      <td>male</td>\n",
       "      <td>...</td>\n",
       "      <td>Zygmunt Solorz-Zak</td>\n",
       "      <td>446</td>\n",
       "      <td>Europe</td>\n",
       "      <td>founder</td>\n",
       "      <td>television</td>\n",
       "      <td>True</td>\n",
       "      <td>False</td>\n",
       "      <td>founder non-finance</td>\n",
       "      <td>3.5</td>\n",
       "      <td>2014</td>\n",
       "    </tr>\n",
       "  </tbody>\n",
       "</table>\n",
       "<p>2614 rows × 22 columns</p>\n",
       "</div>"
      ],
      "text/plain": [
       "     age            category    citizenship  \\\n",
       "0     NA           Financial   Saudi Arabia   \n",
       "1     34           Financial  United States   \n",
       "2     59  Non-Traded Sectors         Brazil   \n",
       "3     61         New Sectors        Germany   \n",
       "4     NA           Financial      Hong Kong   \n",
       "...   ..                 ...            ...   \n",
       "2609  49           Financial          China   \n",
       "2610  48  Non-Traded Sectors         Russia   \n",
       "2611  45    Resource Related         Russia   \n",
       "2612  68      Traded Sectors          China   \n",
       "2613  57  Non-Traded Sectors         Poland   \n",
       "\n",
       "                                company.name company.type country code  \\\n",
       "0     Rolaco Trading and Contracting Company          new          SAU   \n",
       "1                       Fidelity Investments          new          USA   \n",
       "2       Companhia Brasileira de Distribui?ao          new          BRA   \n",
       "3                                 Ratiopharm          new          DEU   \n",
       "4                                      Swire          new          HKG   \n",
       "...                                      ...          ...          ...   \n",
       "2609                              Yurun Food          new          CHN   \n",
       "2610                      Stroygazconsulting          new          RUS   \n",
       "2611                             Summa Group          new          RUS   \n",
       "2612                   Hangzhou Wahaha Group          new          CHN   \n",
       "2613                                  Polsat          new          POL   \n",
       "\n",
       "     founded from emerging           gdp  gender  ...  \\\n",
       "0       1968          True  1.580000e+11    male  ...   \n",
       "1       1946          True  8.100000e+12  female  ...   \n",
       "2       1948          True  8.540000e+11    male  ...   \n",
       "3       1881          True  2.500000e+12    male  ...   \n",
       "4       1816          True  1.600000e+11    male  ...   \n",
       "...      ...           ...           ...     ...  ...   \n",
       "2609    1993          True  0.000000e+00    male  ...   \n",
       "2610    1992          True  0.000000e+00    male  ...   \n",
       "2611    2004          True  0.000000e+00    male  ...   \n",
       "2612    1987          True  0.000000e+00    male  ...   \n",
       "2613    1992          True  0.000000e+00    male  ...   \n",
       "\n",
       "                         name  rank                    region  relationship  \\\n",
       "0      Abdul Aziz Al-Sulaiman   404  Middle East/North Africa       founder   \n",
       "1             Abigail Johnson   145             North America      relation   \n",
       "2     Abilio dos Santos Diniz   322             Latin America      relation   \n",
       "3               Adolf Merckle   388                    Europe      relation   \n",
       "4       Adrian and John Swire   162                 East Asia      relation   \n",
       "...                       ...   ...                       ...           ...   \n",
       "2609                Zhu Yicai  1154                 East Asia       founder   \n",
       "2610            Ziyad Manasir   609                    Europe       founder   \n",
       "2611       Ziyaudin Magomedov  1372                    Europe       founder   \n",
       "2612             Zong Qinghou    94                 East Asia       founder   \n",
       "2613       Zygmunt Solorz-Zak   446                    Europe       founder   \n",
       "\n",
       "                  sector was founder was political               wealth.type  \\\n",
       "0           construction        True         False         self-made finance   \n",
       "1     investment banking        True         False                 inherited   \n",
       "2                 retail        True         False                 inherited   \n",
       "3        pharmaceuticals        True         False                 inherited   \n",
       "4        trading company        True         False                 inherited   \n",
       "...                  ...         ...           ...                       ...   \n",
       "2609       meat products        True         False         self-made finance   \n",
       "2610        construction        True          True  privatized and resources   \n",
       "2611          ports, gas        True         False  privatized and resources   \n",
       "2612           beverages        True         False       founder non-finance   \n",
       "2613          television        True         False       founder non-finance   \n",
       "\n",
       "     worth in billions  year  \n",
       "0                  1.0  1996  \n",
       "1                  2.5  1996  \n",
       "2                  1.2  1996  \n",
       "3                  1.0  1996  \n",
       "4                  2.2  1996  \n",
       "...                ...   ...  \n",
       "2609               1.5  2014  \n",
       "2610               2.8  2014  \n",
       "2611               1.2  2014  \n",
       "2612              11.6  2014  \n",
       "2613               3.5  2014  \n",
       "\n",
       "[2614 rows x 22 columns]"
      ]
     },
     "execution_count": 21,
     "metadata": {},
     "output_type": "execute_result"
    }
   ],
   "source": [
    "bil['age'] = bil['age'].replace(-1, \"NA\")\n",
    "bil"
   ]
  },
  {
   "cell_type": "markdown",
   "metadata": {},
   "source": [
    "# Problem 1\n",
    "In which country are billionaires oldest on average? Youngest? Do not count any country which has less than five observations. Store your answers in variables oldest1 and youngest1, respectively."
   ]
  },
  {
   "cell_type": "code",
   "execution_count": 22,
   "metadata": {},
   "outputs": [
    {
     "data": {
      "text/plain": [
       "┌───────────┐\n",
       "│ youngest1 │\n",
       "│  varchar  │\n",
       "├───────────┤\n",
       "│ Venezuela │\n",
       "└───────────┘"
      ]
     },
     "execution_count": 22,
     "metadata": {},
     "output_type": "execute_result"
    }
   ],
   "source": [
    "pset3prob1_youngest = duckdb.query(\" \\\n",
    "                          WITH country_averages AS ( \\\n",
    "  SELECT citizenship, ROUND(AVG(CAST(age AS DOUBLE)), 2) AS average_age \\\n",
    "  FROM bil \\\n",
    "  WHERE age != 'NA' \\\n",
    "  GROUP BY citizenship \\\n",
    "  HAVING COUNT(*) > 5 \\\n",
    ") \\\n",
    "SELECT citizenship AS youngest1 \\\n",
    "FROM country_averages \\\n",
    "ORDER BY average_age ASC \\\n",
    "LIMIT 1\")\n",
    "\n",
    "pset3prob1_youngest # should be \"United Arab Emirates\""
   ]
  },
  {
   "cell_type": "code",
   "execution_count": 23,
   "metadata": {},
   "outputs": [
    {
     "data": {
      "text/plain": [
       "┌──────────┐\n",
       "│ oldest1  │\n",
       "│ varchar  │\n",
       "├──────────┤\n",
       "│ Portugal │\n",
       "└──────────┘"
      ]
     },
     "execution_count": 23,
     "metadata": {},
     "output_type": "execute_result"
    }
   ],
   "source": [
    "pset3prob1_oldest = duckdb.query(\" \\\n",
    "                          WITH country_averages AS ( \\\n",
    "  SELECT citizenship, ROUND(AVG(CAST(age AS DOUBLE)), 2) AS average_age \\\n",
    "  FROM bil \\\n",
    "  WHERE age != 'NA' \\\n",
    "  GROUP BY citizenship \\\n",
    "  HAVING COUNT(*) >= 5 \\\n",
    ") \\\n",
    "SELECT citizenship AS oldest1 \\\n",
    "FROM country_averages \\\n",
    "ORDER BY average_age DESC \\\n",
    "LIMIT 1\")\n",
    "pset3prob1_oldest"
   ]
  },
  {
   "cell_type": "markdown",
   "metadata": {},
   "source": [
    "# Problem 2:\n",
    "Each billionaire has a category indicating how they made their fortune. Group the billionaires into three age brackets: \"40 and under\", \"41 to 65\", and \"above 65\". (There are just 77 billionaires aged 40 and under, for example.) What is the most common category of billionaire in each of the three age brackets? Store your answer in table2. The table should have three rows (one per category) and three columns: age_bracket, most_common_category and n, the number of billionaires in the most common category."
   ]
  },
  {
   "cell_type": "markdown",
   "metadata": {},
   "source": [
    "## Problem 3: \n",
    "Not a SQL problem..."
   ]
  },
  {
   "cell_type": "markdown",
   "metadata": {},
   "source": [
    "## Problem 4:\n",
    "\n",
    "Recall that each airplane has a unique tail number given by tailnum. Find the tail number of the airplane which flew to the largest number of unique destinations from any of the the three departure airports in flights. Store the string containing this tail number in a variable called most_dests."
   ]
  },
  {
   "cell_type": "code",
   "execution_count": 24,
   "metadata": {},
   "outputs": [
    {
     "data": {
      "text/plain": [
       "┌─────────┬───────┐\n",
       "│ tailnum │   n   │\n",
       "│ varchar │ int64 │\n",
       "├─────────┼───────┤\n",
       "│ N11194  │    47 │\n",
       "└─────────┴───────┘"
      ]
     },
     "execution_count": 24,
     "metadata": {},
     "output_type": "execute_result"
    }
   ],
   "source": [
    "pset3prob4 = duckdb.query(\"SELECT tailnum, COUNT(DISTINCT(dest)) as n from flights \\\n",
    "                                                      WHERE tailnum IS NOT NULL \\\n",
    "                          GROUP BY tailnum \\\n",
    "                          ORDER BY n DESC \\\n",
    "                          LIMIT 1\")\n",
    "pset3prob4"
   ]
  },
  {
   "cell_type": "markdown",
   "metadata": {},
   "source": [
    "### Problem 5:\n",
    "Let a flight's \"positive arrival delay\" be defined as the larger of arr_delay and zero. We say a flight is ridiculously late if its arrival delay was more than ten times the average positive arrival delay for all flights in that week.\n",
    "\n",
    "Use the flights_week table to calculate the number of ridiculously late flights in each week of the year. For example, in the first week of the year there were 81 ridiculously late flights.\n",
    "Also add in the total number of flights in the data set for each week.\n",
    "Sort the resulting table in descending order of the number of ridiculously late flights and store it in a variable called table5. The table should have three columns, week, n, and n_ridiculously_late."
   ]
  },
  {
   "cell_type": "code",
   "execution_count": 25,
   "metadata": {},
   "outputs": [],
   "source": [
    "# flights['time_hour']"
   ]
  },
  {
   "cell_type": "code",
   "execution_count": 26,
   "metadata": {},
   "outputs": [],
   "source": [
    "# duckdb.query(\"SELECT DATEPART(WEEK, CONVERT(DATE, time_hour)) - 1 AS week_number from flights\")"
   ]
  },
  {
   "cell_type": "markdown",
   "metadata": {},
   "source": [
    "## Looking now at Problem Set 4:\n",
    "Found at https://github.com/kaspersj/Stats-306/blob/master/problem%20set%204.ipynb, we can query and find solutions to problems: 2, 3, 4, 5, 6, and 11.\n"
   ]
  },
  {
   "cell_type": "markdown",
   "metadata": {},
   "source": [
    "# Problem 2: \n",
    "The most common model of airplane flown by United Airlines is the 737-824; there are 122 instances of this type of aircraft in the data. What is the most common airplane model flown by Delta airlines? Store your answer in a variable called model2."
   ]
  },
  {
   "cell_type": "code",
   "execution_count": 27,
   "metadata": {},
   "outputs": [
    {
     "data": {
      "text/plain": [
       "┌─────────┐\n",
       "│  model  │\n",
       "│ varchar │\n",
       "├─────────┤\n",
       "│ 737-824 │\n",
       "└─────────┘"
      ]
     },
     "execution_count": 27,
     "metadata": {},
     "output_type": "execute_result"
    }
   ],
   "source": [
    "pset4prob2example = duckdb.query(\"SELECT planes.model FROM flights \\\n",
    "                                 LEFT JOIN planes \\\n",
    "                                 ON planes.tailnum = flights.tailnum \\\n",
    "                                 WHERE carrier = 'UA' \\\n",
    "                                 GROUP BY model \\\n",
    "    ORDER BY COUNT(*) DESC \\\n",
    "    LIMIT    1;\")\n",
    "pset4prob2example"
   ]
  },
  {
   "cell_type": "code",
   "execution_count": 28,
   "metadata": {},
   "outputs": [
    {
     "data": {
      "text/plain": [
       "┌─────────┐\n",
       "│  model  │\n",
       "│ varchar │\n",
       "├─────────┤\n",
       "│ MD-88   │\n",
       "└─────────┘"
      ]
     },
     "execution_count": 28,
     "metadata": {},
     "output_type": "execute_result"
    }
   ],
   "source": [
    "pset4prob2 = duckdb.query(\"SELECT planes.model FROM flights \\\n",
    "                                 LEFT JOIN planes \\\n",
    "                                 ON planes.tailnum = flights.tailnum \\\n",
    "                                 WHERE carrier = 'DL' \\\n",
    "                                 GROUP BY model \\\n",
    "                                ORDER BY COUNT(*) DESC \\\n",
    "                                LIMIT    1;\")\n",
    "pset4prob2"
   ]
  },
  {
   "cell_type": "markdown",
   "metadata": {},
   "source": [
    "# Problem 3\n",
    "\n",
    "In July there were 31 departures from JFK destined for somewhere tropical. How many were there in December? Store your answer in a variable called lga3."
   ]
  },
  {
   "cell_type": "code",
   "execution_count": 29,
   "metadata": {},
   "outputs": [
    {
     "data": {
      "text/plain": [
       "┌──────────────┐\n",
       "│ count_star() │\n",
       "│    int64     │\n",
       "├──────────────┤\n",
       "│           28 │\n",
       "└──────────────┘"
      ]
     },
     "execution_count": 29,
     "metadata": {},
     "output_type": "execute_result"
    }
   ],
   "source": [
    "pset4prob3 = duckdb.query(\"SELECT count(*) from flights \\\n",
    "                          LEFT JOIN airports \\\n",
    "                          ON airports.faa = flights.dest \\\n",
    "                          WHERE (flights.origin = 'JFK' AND flights.month = 12 AND airports.lat between -23.5 AND 23.5 ) \\\n",
    "                         ;\")\n",
    "pset4prob3"
   ]
  },
  {
   "cell_type": "markdown",
   "metadata": {},
   "source": [
    "# Problem 4\n",
    "There were 27261 United Airlines flights which experienced a departure delay:"
   ]
  },
  {
   "cell_type": "code",
   "execution_count": 30,
   "metadata": {},
   "outputs": [
    {
     "data": {
      "text/plain": [
       "┌──────────────┐\n",
       "│ UA_dep_delay │\n",
       "│    int64     │\n",
       "├──────────────┤\n",
       "│        27261 │\n",
       "└──────────────┘"
      ]
     },
     "execution_count": 30,
     "metadata": {},
     "output_type": "execute_result"
    }
   ],
   "source": [
    "pset4prob4 = duckdb.query(\"SELECT count(*) as UA_dep_delay from flights \\\n",
    "                          WHERE (carrier = 'UA' AND dep_delay > 0) \\\n",
    "                         ;\")\n",
    "pset4prob4"
   ]
  },
  {
   "cell_type": "markdown",
   "metadata": {},
   "source": [
    "Of the 27261 flights that experienced a departure delay, and after dropping flights with missing dep_delay, it was also the case that the immediately preceding (in chronological order, with ties broken by tail number) United Airlines flight was also delayed. Hence, the odds of experiencing a delay given that the previous flight was also delayed are: 15246 / (27261 - 15246) = 1.27\n",
    "\n",
    "Using the same criteria, what are the odds that a Delta Airlines flight is delayed given that the previous Delta flight was also delayed? Store your answer in a random variable called odds4. (We will check your to two decimal places.)"
   ]
  },
  {
   "cell_type": "code",
   "execution_count": null,
   "metadata": {},
   "outputs": [],
   "source": []
  },
  {
   "cell_type": "code",
   "execution_count": 31,
   "metadata": {},
   "outputs": [
    {
     "data": {
      "text/plain": [
       "┌──────────────┐\n",
       "│ count_star() │\n",
       "│    int64     │\n",
       "├──────────────┤\n",
       "│        15241 │\n",
       "└──────────────┘"
      ]
     },
     "execution_count": 31,
     "metadata": {},
     "output_type": "execute_result"
    }
   ],
   "source": [
    "odds4 = duckdb.query(\"SELECT count(*) from flights \\\n",
    "                     WHERE (dep_delay > 0 AND carrier = 'DL') \\\n",
    "                     ;\")\n",
    "\n",
    "odds4"
   ]
  },
  {
   "cell_type": "code",
   "execution_count": 32,
   "metadata": {},
   "outputs": [
    {
     "data": {
      "text/plain": [
       "1.2679700499168054"
      ]
     },
     "execution_count": 32,
     "metadata": {},
     "output_type": "execute_result"
    }
   ],
   "source": [
    "pset4prob5 = 15241 / (27261 - 15241)\n",
    "pset4prob5"
   ]
  },
  {
   "cell_type": "markdown",
   "metadata": {},
   "source": [
    "### Looking now at Problem Set 5:\n",
    "Found at https://github.com/kaspersj/Stats-306/blob/master/problemset5.ipynb, we can query and find solutions to problems: 1, 2, 3, 4 and 5.\n"
   ]
  },
  {
   "cell_type": "markdown",
   "metadata": {},
   "source": [
    "UCBAdmissions data can be found here:\n",
    "https://github.com/vincentarelbundock/Rdatasets/blob/master/csv/datasets/UCBAdmissions.csv\n"
   ]
  },
  {
   "cell_type": "markdown",
   "metadata": {},
   "source": []
  },
  {
   "cell_type": "code",
   "execution_count": 33,
   "metadata": {},
   "outputs": [
    {
     "data": {
      "text/html": [
       "<div>\n",
       "<style scoped>\n",
       "    .dataframe tbody tr th:only-of-type {\n",
       "        vertical-align: middle;\n",
       "    }\n",
       "\n",
       "    .dataframe tbody tr th {\n",
       "        vertical-align: top;\n",
       "    }\n",
       "\n",
       "    .dataframe thead th {\n",
       "        text-align: right;\n",
       "    }\n",
       "</style>\n",
       "<table border=\"1\" class=\"dataframe\">\n",
       "  <thead>\n",
       "    <tr style=\"text-align: right;\">\n",
       "      <th></th>\n",
       "      <th>rownames</th>\n",
       "      <th>Admit</th>\n",
       "      <th>Gender</th>\n",
       "      <th>Dept</th>\n",
       "      <th>Freq</th>\n",
       "    </tr>\n",
       "  </thead>\n",
       "  <tbody>\n",
       "    <tr>\n",
       "      <th>0</th>\n",
       "      <td>1</td>\n",
       "      <td>Admitted</td>\n",
       "      <td>Male</td>\n",
       "      <td>A</td>\n",
       "      <td>512</td>\n",
       "    </tr>\n",
       "    <tr>\n",
       "      <th>1</th>\n",
       "      <td>2</td>\n",
       "      <td>Rejected</td>\n",
       "      <td>Male</td>\n",
       "      <td>A</td>\n",
       "      <td>313</td>\n",
       "    </tr>\n",
       "    <tr>\n",
       "      <th>2</th>\n",
       "      <td>3</td>\n",
       "      <td>Admitted</td>\n",
       "      <td>Female</td>\n",
       "      <td>A</td>\n",
       "      <td>89</td>\n",
       "    </tr>\n",
       "  </tbody>\n",
       "</table>\n",
       "</div>"
      ],
      "text/plain": [
       "   rownames     Admit  Gender Dept  Freq\n",
       "0         1  Admitted    Male    A   512\n",
       "1         2  Rejected    Male    A   313\n",
       "2         3  Admitted  Female    A    89"
      ]
     },
     "execution_count": 33,
     "metadata": {},
     "output_type": "execute_result"
    }
   ],
   "source": [
    "ucb = pd.read_csv(\"UCBAdmissions.csv\")\n",
    "ucb.head(3)"
   ]
  },
  {
   "cell_type": "markdown",
   "metadata": {},
   "source": [
    "# Problem 1: \n",
    "\n",
    "Using the tool(s) we learned for summarizing and manipulating tidy data, create a summary table from ucb which shows the acceptance rate by gender. Your table should have four columns: Gender, Accepted, Rejected, and Acceptance Proportion (the fraction of accepted applicants within each gender) and should look like this:\n",
    "\n",
    "Gender\tAdmitted\tRejected\tAcceptance Proportion\n",
    "Female\t557\t&dash;\t&dash;\n",
    "Male\t&dash;\t&dash;\t0.4451877\n",
    "(A few entries have been provided for you; your job is to write code that will produce the complete table with no blanks.)\n",
    "\n",
    "Store the resulting tibble in a variable called table1."
   ]
  },
  {
   "cell_type": "code",
   "execution_count": 34,
   "metadata": {},
   "outputs": [
    {
     "data": {
      "text/plain": [
       "┌─────────┬──────────────┐\n",
       "│ Gender  │ admitted_sum │\n",
       "│ varchar │    int128    │\n",
       "├─────────┼──────────────┤\n",
       "│ Female  │          557 │\n",
       "│ Male    │         1198 │\n",
       "└─────────┴──────────────┘"
      ]
     },
     "execution_count": 34,
     "metadata": {},
     "output_type": "execute_result"
    }
   ],
   "source": [
    "pset5_prob1 = duckdb.query(\"WITH Admitted AS  (\\\n",
    "                           SELECT Gender, sum(Freq) as admitted_sum from ucb \\\n",
    "                           WHERE Admit = 'Admitted' \\\n",
    "                           GROUP BY Gender \\\n",
    "                           ) \\\n",
    "SELECT * FROM Admitted\")\n",
    "\n",
    "pset5_prob1"
   ]
  },
  {
   "cell_type": "code",
   "execution_count": 35,
   "metadata": {},
   "outputs": [
    {
     "data": {
      "text/plain": [
       "┌─────────┬──────────────┐\n",
       "│ Gender  │ rejected_sum │\n",
       "│ varchar │    int128    │\n",
       "├─────────┼──────────────┤\n",
       "│ Male    │         1493 │\n",
       "│ Female  │         1278 │\n",
       "└─────────┴──────────────┘"
      ]
     },
     "execution_count": 35,
     "metadata": {},
     "output_type": "execute_result"
    }
   ],
   "source": [
    "pset5_prob1part2 = duckdb.query(\"WITH Rejected AS  (\\\n",
    "                           SELECT Gender, sum(Freq) as rejected_sum from ucb \\\n",
    "                           WHERE Admit = 'Rejected' \\\n",
    "                           GROUP BY Gender \\\n",
    "                           ) \\\n",
    "SELECT * FROM Rejected\")\n",
    "\n",
    "pset5_prob1part2"
   ]
  },
  {
   "cell_type": "code",
   "execution_count": 36,
   "metadata": {},
   "outputs": [
    {
     "data": {
      "text/plain": [
       "┌─────────┬──────────────┬──────────────┬───────────────────────┐\n",
       "│ Gender  │ rejected_sum │ admitted_sum │ acceptance_proportion │\n",
       "│ varchar │    int128    │    int128    │        double         │\n",
       "├─────────┼──────────────┼──────────────┼───────────────────────┤\n",
       "│ Male    │         1493 │         1198 │    0.4451876625789669 │\n",
       "│ Female  │         1278 │          557 │   0.30354223433242505 │\n",
       "└─────────┴──────────────┴──────────────┴───────────────────────┘"
      ]
     },
     "execution_count": 36,
     "metadata": {},
     "output_type": "execute_result"
    }
   ],
   "source": [
    "pset5_prob1part3 = duckdb.query(\"WITH table1 as ( \\\n",
    "                                SELECT * FROM pset5_prob1part2 \\\n",
    "                                JOIN pset5_prob1 \\\n",
    "                                ON pset5_prob1.Gender = pset5_prob1part2.Gender \\\n",
    "                                ) \\\n",
    "    SELECT Gender, rejected_sum, admitted_sum, (admitted_sum)/(admitted_sum + rejected_sum) AS acceptance_proportion from table1\")\n",
    "\n",
    "pset5_prob1part3"
   ]
  },
  {
   "cell_type": "markdown",
   "metadata": {},
   "source": [
    "## Problem 2:\n",
    "In STATS 250 you learned how to test for differences in proportions between two populations. Apply this to Problem 1. Was the overall acceptance proportion for men statistically different from that of women? Perform an appropriate test and interpret your findings. What do these result suggest about admissions practices at UC Berkeley in the early 1970s?\n",
    "\n",
    "*Interpretation*\n",
    "\n",
    "To test for significance we must do a two proportion z test with a hypothesis of p1=p2. To perform this we must first find the general p which is = (557 +1198/ 557+1278+1198+1493). This equals .63345. We are provided p1 and p2 by the Acceptance rate proportion. p1 = .4451877 & p2 = .303355422. We then plug these values into the equation z = (p1-p2)/sqrt(p(1-p)(1/n1+1/n2) where p = the general p described above and n is that sample sizes of men and female. We get a z score of 9.7. This corresponds to a p value of <.001 which is less than .05, so the overall acceptance proportion for men was statistically different from that of women in UC Berkeley in the early 1970s."
   ]
  },
  {
   "cell_type": "markdown",
   "metadata": {},
   "source": [
    "##  Problem 3:\n",
    "\n",
    "Reproduce the table from Problem 1, but now stratify by department. Compute the male and female acceptance proportion for each department separately. Your resulting table should look like:"
   ]
  },
  {
   "cell_type": "code",
   "execution_count": 37,
   "metadata": {},
   "outputs": [
    {
     "data": {
      "text/plain": [
       "┌─────────┬─────────┬──────────────┐\n",
       "│  Dept   │ Gender  │ rejected_sum │\n",
       "│ varchar │ varchar │    int128    │\n",
       "├─────────┼─────────┼──────────────┤\n",
       "│ F       │ Female  │          317 │\n",
       "│ E       │ Female  │          299 │\n",
       "│ B       │ Male    │          207 │\n",
       "│ C       │ Male    │          205 │\n",
       "│ D       │ Male    │          279 │\n",
       "│ A       │ Female  │           19 │\n",
       "│ E       │ Male    │          138 │\n",
       "│ B       │ Female  │            8 │\n",
       "│ C       │ Female  │          391 │\n",
       "│ D       │ Female  │          244 │\n",
       "│ F       │ Male    │          351 │\n",
       "│ A       │ Male    │          313 │\n",
       "├─────────┴─────────┴──────────────┤\n",
       "│ 12 rows                3 columns │\n",
       "└──────────────────────────────────┘"
      ]
     },
     "execution_count": 37,
     "metadata": {},
     "output_type": "execute_result"
    }
   ],
   "source": [
    "pset5_prob3 = duckdb.query(\"WITH rejected AS  (\\\n",
    "                           SELECT Dept, Gender, sum(Freq) as rejected_sum from ucb \\\n",
    "                           WHERE Admit = 'Rejected' \\\n",
    "                           GROUP BY Dept, Gender \\\n",
    "                           ) \\\n",
    "SELECT * FROM rejected\")\n",
    "\n",
    "pset5_prob3"
   ]
  },
  {
   "cell_type": "code",
   "execution_count": 38,
   "metadata": {},
   "outputs": [
    {
     "data": {
      "text/plain": [
       "┌─────────┬─────────┬──────────────┐\n",
       "│  Dept   │ Gender  │ Admitted_sum │\n",
       "│ varchar │ varchar │    int128    │\n",
       "├─────────┼─────────┼──────────────┤\n",
       "│ B       │ Female  │           17 │\n",
       "│ C       │ Female  │          202 │\n",
       "│ D       │ Female  │          131 │\n",
       "│ E       │ Female  │           94 │\n",
       "│ E       │ Male    │           53 │\n",
       "│ A       │ Male    │          512 │\n",
       "│ F       │ Female  │           24 │\n",
       "│ A       │ Female  │           89 │\n",
       "│ B       │ Male    │          353 │\n",
       "│ C       │ Male    │          120 │\n",
       "│ D       │ Male    │          138 │\n",
       "│ F       │ Male    │           22 │\n",
       "├─────────┴─────────┴──────────────┤\n",
       "│ 12 rows                3 columns │\n",
       "└──────────────────────────────────┘"
      ]
     },
     "execution_count": 38,
     "metadata": {},
     "output_type": "execute_result"
    }
   ],
   "source": [
    "pset5_prob3part2 = duckdb.query(\"WITH admitted AS  (\\\n",
    "                           SELECT Dept, Gender, sum(Freq) as Admitted_sum from ucb \\\n",
    "                           WHERE Admit = 'Admitted' \\\n",
    "                           GROUP BY Dept, Gender \\\n",
    "                           ) \\\n",
    "SELECT * FROM admitted\")\n",
    "\n",
    "pset5_prob3part2"
   ]
  },
  {
   "cell_type": "code",
   "execution_count": 42,
   "metadata": {},
   "outputs": [
    {
     "data": {
      "text/plain": [
       "┌─────────┬─────────┬──────────────┐\n",
       "│  Dept   │ Gender  │ Admitted_sum │\n",
       "│ varchar │ varchar │    int128    │\n",
       "├─────────┼─────────┼──────────────┤\n",
       "│ F       │ Female  │           24 │\n",
       "│ B       │ Female  │           17 │\n",
       "│ C       │ Female  │          202 │\n",
       "│ D       │ Female  │          131 │\n",
       "│ B       │ Male    │          353 │\n",
       "│ C       │ Male    │          120 │\n",
       "│ D       │ Male    │          138 │\n",
       "│ F       │ Male    │           22 │\n",
       "│ A       │ Male    │          512 │\n",
       "│ A       │ Female  │           89 │\n",
       "│ E       │ Female  │           94 │\n",
       "│ E       │ Male    │           53 │\n",
       "├─────────┴─────────┴──────────────┤\n",
       "│ 12 rows                3 columns │\n",
       "└──────────────────────────────────┘"
      ]
     },
     "execution_count": 42,
     "metadata": {},
     "output_type": "execute_result"
    }
   ],
   "source": [
    "pset5_prob3part3 = duckdb.query(\"SELECT Dept, Gender, Admitted_sum from pset5_prob3part2 \\\n",
    "             \")\n",
    "\n",
    "pset5_prob3part3"
   ]
  },
  {
   "cell_type": "code",
   "execution_count": 57,
   "metadata": {},
   "outputs": [
    {
     "data": {
      "text/plain": [
       "┌─────────┬─────────┬──────────────┐\n",
       "│  Dept   │ Gender  │ Admitted_sum │\n",
       "│ varchar │ varchar │    int128    │\n",
       "├─────────┼─────────┼──────────────┤\n",
       "│ B       │ Female  │           17 │\n",
       "│ C       │ Female  │          202 │\n",
       "│ D       │ Female  │          131 │\n",
       "│ B       │ Male    │          353 │\n",
       "│ C       │ Male    │          120 │\n",
       "│ D       │ Male    │          138 │\n",
       "│ E       │ Male    │           53 │\n",
       "│ E       │ Female  │           94 │\n",
       "│ A       │ Male    │          512 │\n",
       "│ A       │ Female  │           89 │\n",
       "│ ·       │  ·      │            · │\n",
       "│ ·       │  ·      │            · │\n",
       "│ ·       │  ·      │            · │\n",
       "│ C       │ Male    │          120 │\n",
       "│ D       │ Male    │          138 │\n",
       "│ F       │ Male    │           22 │\n",
       "│ F       │ Female  │           24 │\n",
       "│ F       │ Male    │           22 │\n",
       "│ F       │ Female  │           24 │\n",
       "│ A       │ Male    │          512 │\n",
       "│ A       │ Female  │           89 │\n",
       "│ E       │ Male    │           53 │\n",
       "│ E       │ Female  │           94 │\n",
       "├─────────┴─────────┴──────────────┤\n",
       "│ 24 rows (20 shown)     3 columns │\n",
       "└──────────────────────────────────┘"
      ]
     },
     "execution_count": 57,
     "metadata": {},
     "output_type": "execute_result"
    }
   ],
   "source": [
    "pset5_prob3part4 = duckdb.query(\"SELECT pset5_prob3part3.Dept, pset5_prob3part3.Gender, pset5_prob3part3.Admitted_sum FROM pset5_prob3part3 \\\n",
    "                                JOIN pset5_prob3part2 ON \\\n",
    "                                pset5_prob3part2.Dept = pset5_prob3part3.Dept\")\n",
    "\n",
    "pset5_prob3part4"
   ]
  },
  {
   "cell_type": "code",
   "execution_count": null,
   "metadata": {},
   "outputs": [],
   "source": []
  }
 ],
 "metadata": {
  "kernelspec": {
   "display_name": "venv",
   "language": "python",
   "name": "python3"
  },
  "language_info": {
   "codemirror_mode": {
    "name": "ipython",
    "version": 3
   },
   "file_extension": ".py",
   "mimetype": "text/x-python",
   "name": "python",
   "nbconvert_exporter": "python",
   "pygments_lexer": "ipython3",
   "version": "3.12.6"
  }
 },
 "nbformat": 4,
 "nbformat_minor": 2
}
